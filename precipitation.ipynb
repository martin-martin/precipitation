{
 "cells": [
  {
   "cell_type": "code",
   "execution_count": 11,
   "metadata": {},
   "outputs": [],
   "source": [
    "import netCDF4\n",
    "from netCDF4 import Dataset\n",
    "import pandas as pd"
   ]
  },
  {
   "cell_type": "code",
   "execution_count": 3,
   "metadata": {},
   "outputs": [
    {
     "data": {
      "text/plain": [
       "OrderedDict([('lat', <class 'netCDF4._netCDF4.Variable'>\n",
       "              float32 lat(lat)\n",
       "                  units: degrees_north\n",
       "                  actual_range: [ 88.75 -88.75]\n",
       "                  long_name: Latitude\n",
       "                  standard_name: latitude\n",
       "                  axis: Y\n",
       "              unlimited dimensions: \n",
       "              current shape = (72,)\n",
       "              filling on, default _FillValue of 9.969209968386869e+36 used),\n",
       "             ('lon', <class 'netCDF4._netCDF4.Variable'>\n",
       "              float32 lon(lon)\n",
       "                  units: degrees_east\n",
       "                  long_name: Longitude\n",
       "                  actual_range: [  1.25 358.75]\n",
       "                  standard_name: longitude\n",
       "                  axis: X\n",
       "              unlimited dimensions: \n",
       "              current shape = (144,)\n",
       "              filling on, default _FillValue of 9.969209968386869e+36 used),\n",
       "             ('time', <class 'netCDF4._netCDF4.Variable'>\n",
       "              float64 time(time)\n",
       "                  units: hours since 1800-01-01 00:00:0.0\n",
       "                  long_name: Time\n",
       "                  delta_t: 0000-01-00 00:00:00\n",
       "                  avg_period: 0000-01-00 00:00:00\n",
       "                  standard_name: time\n",
       "                  axis: T\n",
       "                  actual_range: [1569072. 1916784.]\n",
       "              unlimited dimensions: time\n",
       "              current shape = (477,)\n",
       "              filling on, default _FillValue of 9.969209968386869e+36 used),\n",
       "             ('precip', <class 'netCDF4._netCDF4.Variable'>\n",
       "              float32 precip(time, lat, lon)\n",
       "                  long_name: Average Monthly Rate of Precipitation\n",
       "                  valid_range: [ 0. 70.]\n",
       "                  units: mm/day\n",
       "                  add_offset: 0.0\n",
       "                  scale_factor: 1.0\n",
       "                  missing_value: -9.96921e+36\n",
       "                  precision: 2\n",
       "                  least_significant_digit: 2\n",
       "                  var_desc: Precipitation\n",
       "                  dataset: CPC Merged Analysis of Precipitation Standard\n",
       "                  level_desc: Surface\n",
       "                  statistic: Mean\n",
       "                  parent_stat: Mean\n",
       "                  actual_range: [ 0.   59.08]\n",
       "              unlimited dimensions: time\n",
       "              current shape = (477, 72, 144)\n",
       "              filling on, default _FillValue of 9.969209968386869e+36 used)])"
      ]
     },
     "execution_count": 3,
     "metadata": {},
     "output_type": "execute_result"
    }
   ],
   "source": [
    "dataset = Dataset('precip.mon.mean.nc')\n",
    "dataset.variables"
   ]
  },
  {
   "cell_type": "code",
   "execution_count": 4,
   "metadata": {},
   "outputs": [
    {
     "data": {
      "text/plain": [
       "4"
      ]
     },
     "execution_count": 4,
     "metadata": {},
     "output_type": "execute_result"
    }
   ],
   "source": [
    "len(dataset.variables)"
   ]
  },
  {
   "cell_type": "code",
   "execution_count": 5,
   "metadata": {},
   "outputs": [
    {
     "name": "stdout",
     "output_type": "stream",
     "text": [
      "lat\n",
      "lon\n",
      "time\n",
      "precip\n"
     ]
    }
   ],
   "source": [
    "for key in dataset.variables:\n",
    "    print(key)"
   ]
  },
  {
   "cell_type": "code",
   "execution_count": 6,
   "metadata": {},
   "outputs": [],
   "source": [
    "time = dataset.variables['time']"
   ]
  },
  {
   "cell_type": "code",
   "execution_count": 7,
   "metadata": {},
   "outputs": [
    {
     "data": {
      "text/plain": [
       "<class 'netCDF4._netCDF4.Variable'>\n",
       "float64 time(time)\n",
       "    units: hours since 1800-01-01 00:00:0.0\n",
       "    long_name: Time\n",
       "    delta_t: 0000-01-00 00:00:00\n",
       "    avg_period: 0000-01-00 00:00:00\n",
       "    standard_name: time\n",
       "    axis: T\n",
       "    actual_range: [1569072. 1916784.]\n",
       "unlimited dimensions: time\n",
       "current shape = (477,)\n",
       "filling on, default _FillValue of 9.969209968386869e+36 used"
      ]
     },
     "execution_count": 7,
     "metadata": {},
     "output_type": "execute_result"
    }
   ],
   "source": [
    "time"
   ]
  },
  {
   "cell_type": "code",
   "execution_count": 8,
   "metadata": {},
   "outputs": [
    {
     "data": {
      "text/plain": [
       "masked_array(data=[1569072., 1569816., 1570488., 1571232., 1571952.,\n",
       "                   1572696., 1573416., 1574160., 1574904., 1575624.,\n",
       "                   1576368., 1577088., 1577832., 1578576., 1579272.,\n",
       "                   1580016., 1580736., 1581480., 1582200., 1582944.,\n",
       "                   1583688., 1584408., 1585152., 1585872., 1586616.,\n",
       "                   1587360., 1588032., 1588776., 1589496., 1590240.,\n",
       "                   1590960., 1591704., 1592448., 1593168., 1593912.,\n",
       "                   1594632., 1595376., 1596120., 1596792., 1597536.,\n",
       "                   1598256., 1599000., 1599720., 1600464., 1601208.,\n",
       "                   1601928., 1602672., 1603392., 1604136., 1604880.,\n",
       "                   1605552., 1606296., 1607016., 1607760., 1608480.,\n",
       "                   1609224., 1609968., 1610688., 1611432., 1612152.,\n",
       "                   1612896., 1613640., 1614336., 1615080., 1615800.,\n",
       "                   1616544., 1617264., 1618008., 1618752., 1619472.,\n",
       "                   1620216., 1620936., 1621680., 1622424., 1623096.,\n",
       "                   1623840., 1624560., 1625304., 1626024., 1626768.,\n",
       "                   1627512., 1628232., 1628976., 1629696., 1630440.,\n",
       "                   1631184., 1631856., 1632600., 1633320., 1634064.,\n",
       "                   1634784., 1635528., 1636272., 1636992., 1637736.,\n",
       "                   1638456., 1639200., 1639944., 1640616., 1641360.,\n",
       "                   1642080., 1642824., 1643544., 1644288., 1645032.,\n",
       "                   1645752., 1646496., 1647216., 1647960., 1648704.,\n",
       "                   1649400., 1650144., 1650864., 1651608., 1652328.,\n",
       "                   1653072., 1653816., 1654536., 1655280., 1656000.,\n",
       "                   1656744., 1657488., 1658160., 1658904., 1659624.,\n",
       "                   1660368., 1661088., 1661832., 1662576., 1663296.,\n",
       "                   1664040., 1664760., 1665504., 1666248., 1666920.,\n",
       "                   1667664., 1668384., 1669128., 1669848., 1670592.,\n",
       "                   1671336., 1672056., 1672800., 1673520., 1674264.,\n",
       "                   1675008., 1675680., 1676424., 1677144., 1677888.,\n",
       "                   1678608., 1679352., 1680096., 1680816., 1681560.,\n",
       "                   1682280., 1683024., 1683768., 1684464., 1685208.,\n",
       "                   1685928., 1686672., 1687392., 1688136., 1688880.,\n",
       "                   1689600., 1690344., 1691064., 1691808., 1692552.,\n",
       "                   1693224., 1693968., 1694688., 1695432., 1696152.,\n",
       "                   1696896., 1697640., 1698360., 1699104., 1699824.,\n",
       "                   1700568., 1701312., 1701984., 1702728., 1703448.,\n",
       "                   1704192., 1704912., 1705656., 1706400., 1707120.,\n",
       "                   1707864., 1708584., 1709328., 1710072., 1710744.,\n",
       "                   1711488., 1712208., 1712952., 1713672., 1714416.,\n",
       "                   1715160., 1715880., 1716624., 1717344., 1718088.,\n",
       "                   1718832., 1719528., 1720272., 1720992., 1721736.,\n",
       "                   1722456., 1723200., 1723944., 1724664., 1725408.,\n",
       "                   1726128., 1726872., 1727616., 1728288., 1729032.,\n",
       "                   1729752., 1730496., 1731216., 1731960., 1732704.,\n",
       "                   1733424., 1734168., 1734888., 1735632., 1736376.,\n",
       "                   1737048., 1737792., 1738512., 1739256., 1739976.,\n",
       "                   1740720., 1741464., 1742184., 1742928., 1743648.,\n",
       "                   1744392., 1745136., 1745808., 1746552., 1747272.,\n",
       "                   1748016., 1748736., 1749480., 1750224., 1750944.,\n",
       "                   1751688., 1752408., 1753152., 1753896., 1754592.,\n",
       "                   1755336., 1756056., 1756800., 1757520., 1758264.,\n",
       "                   1759008., 1759728., 1760472., 1761192., 1761936.,\n",
       "                   1762680., 1763352., 1764096., 1764816., 1765560.,\n",
       "                   1766280., 1767024., 1767768., 1768488., 1769232.,\n",
       "                   1769952., 1770696., 1771440., 1772112., 1772856.,\n",
       "                   1773576., 1774320., 1775040., 1775784., 1776528.,\n",
       "                   1777248., 1777992., 1778712., 1779456., 1780200.,\n",
       "                   1780872., 1781616., 1782336., 1783080., 1783800.,\n",
       "                   1784544., 1785288., 1786008., 1786752., 1787472.,\n",
       "                   1788216., 1788960., 1789656., 1790400., 1791120.,\n",
       "                   1791864., 1792584., 1793328., 1794072., 1794792.,\n",
       "                   1795536., 1796256., 1797000., 1797744., 1798416.,\n",
       "                   1799160., 1799880., 1800624., 1801344., 1802088.,\n",
       "                   1802832., 1803552., 1804296., 1805016., 1805760.,\n",
       "                   1806504., 1807176., 1807920., 1808640., 1809384.,\n",
       "                   1810104., 1810848., 1811592., 1812312., 1813056.,\n",
       "                   1813776., 1814520., 1815264., 1815936., 1816680.,\n",
       "                   1817400., 1818144., 1818864., 1819608., 1820352.,\n",
       "                   1821072., 1821816., 1822536., 1823280., 1824024.,\n",
       "                   1824720., 1825464., 1826184., 1826928., 1827648.,\n",
       "                   1828392., 1829136., 1829856., 1830600., 1831320.,\n",
       "                   1832064., 1832808., 1833480., 1834224., 1834944.,\n",
       "                   1835688., 1836408., 1837152., 1837896., 1838616.,\n",
       "                   1839360., 1840080., 1840824., 1841568., 1842240.,\n",
       "                   1842984., 1843704., 1844448., 1845168., 1845912.,\n",
       "                   1846656., 1847376., 1848120., 1848840., 1849584.,\n",
       "                   1850328., 1851000., 1851744., 1852464., 1853208.,\n",
       "                   1853928., 1854672., 1855416., 1856136., 1856880.,\n",
       "                   1857600., 1858344., 1859088., 1859784., 1860528.,\n",
       "                   1861248., 1861992., 1862712., 1863456., 1864200.,\n",
       "                   1864920., 1865664., 1866384., 1867128., 1867872.,\n",
       "                   1868544., 1869288., 1870008., 1870752., 1871472.,\n",
       "                   1872216., 1872960., 1873680., 1874424., 1875144.,\n",
       "                   1875888., 1876632., 1877304., 1878048., 1878768.,\n",
       "                   1879512., 1880232., 1880976., 1881720., 1882440.,\n",
       "                   1883184., 1883904., 1884648., 1885392., 1886064.,\n",
       "                   1886808., 1887528., 1888272., 1888992., 1889736.,\n",
       "                   1890480., 1891200., 1891944., 1892664., 1893408.,\n",
       "                   1894152., 1894848., 1895592., 1896312., 1897056.,\n",
       "                   1897776., 1898520., 1899264., 1899984., 1900728.,\n",
       "                   1901448., 1902192., 1902936., 1903608., 1904352.,\n",
       "                   1905072., 1905816., 1906536., 1907280., 1908024.,\n",
       "                   1908744., 1909488., 1910208., 1910952., 1911696.,\n",
       "                   1912368., 1913112., 1913832., 1914576., 1915296.,\n",
       "                   1916040., 1916784.],\n",
       "             mask=False,\n",
       "       fill_value=1e+20)"
      ]
     },
     "execution_count": 8,
     "metadata": {},
     "output_type": "execute_result"
    }
   ],
   "source": [
    "time[:]"
   ]
  },
  {
   "cell_type": "code",
   "execution_count": 9,
   "metadata": {},
   "outputs": [
    {
     "data": {
      "text/plain": [
       "'hours since 1800-01-01 00:00:0.0'"
      ]
     },
     "execution_count": 9,
     "metadata": {},
     "output_type": "execute_result"
    }
   ],
   "source": [
    "time.units"
   ]
  },
  {
   "cell_type": "code",
   "execution_count": 13,
   "metadata": {},
   "outputs": [],
   "source": [
    "jd = netCDF4.num2date(time[:],time.units)"
   ]
  },
  {
   "cell_type": "code",
   "execution_count": 15,
   "metadata": {},
   "outputs": [],
   "source": [
    "precip = dataset.variables['precip']"
   ]
  },
  {
   "cell_type": "code",
   "execution_count": 16,
   "metadata": {},
   "outputs": [
    {
     "data": {
      "text/plain": [
       "<class 'netCDF4._netCDF4.Variable'>\n",
       "float32 precip(time, lat, lon)\n",
       "    long_name: Average Monthly Rate of Precipitation\n",
       "    valid_range: [ 0. 70.]\n",
       "    units: mm/day\n",
       "    add_offset: 0.0\n",
       "    scale_factor: 1.0\n",
       "    missing_value: -9.96921e+36\n",
       "    precision: 2\n",
       "    least_significant_digit: 2\n",
       "    var_desc: Precipitation\n",
       "    dataset: CPC Merged Analysis of Precipitation Standard\n",
       "    level_desc: Surface\n",
       "    statistic: Mean\n",
       "    parent_stat: Mean\n",
       "    actual_range: [ 0.   59.08]\n",
       "unlimited dimensions: time\n",
       "current shape = (477, 72, 144)\n",
       "filling on, default _FillValue of 9.969209968386869e+36 used"
      ]
     },
     "execution_count": 16,
     "metadata": {},
     "output_type": "execute_result"
    }
   ],
   "source": [
    "precip"
   ]
  },
  {
   "cell_type": "code",
   "execution_count": 27,
   "metadata": {},
   "outputs": [],
   "source": [
    "df = pd.DataFrame([time[:], precip[:]]).T"
   ]
  },
  {
   "cell_type": "code",
   "execution_count": 25,
   "metadata": {},
   "outputs": [
    {
     "data": {
      "text/html": [
       "<div>\n",
       "<style scoped>\n",
       "    .dataframe tbody tr th:only-of-type {\n",
       "        vertical-align: middle;\n",
       "    }\n",
       "\n",
       "    .dataframe tbody tr th {\n",
       "        vertical-align: top;\n",
       "    }\n",
       "\n",
       "    .dataframe thead th {\n",
       "        text-align: right;\n",
       "    }\n",
       "</style>\n",
       "<table border=\"1\" class=\"dataframe\">\n",
       "  <thead>\n",
       "    <tr style=\"text-align: right;\">\n",
       "      <th></th>\n",
       "      <th>0</th>\n",
       "      <th>1</th>\n",
       "    </tr>\n",
       "  </thead>\n",
       "  <tbody>\n",
       "    <tr>\n",
       "      <th>0</th>\n",
       "      <td>1.56907e+06</td>\n",
       "      <td>[[--, --, --, --, --, --, --, --, --, --, --, ...</td>\n",
       "    </tr>\n",
       "    <tr>\n",
       "      <th>1</th>\n",
       "      <td>1.56982e+06</td>\n",
       "      <td>[[--, --, --, --, --, --, --, --, --, --, --, ...</td>\n",
       "    </tr>\n",
       "    <tr>\n",
       "      <th>2</th>\n",
       "      <td>1.57049e+06</td>\n",
       "      <td>[[--, --, --, --, --, --, --, --, --, --, --, ...</td>\n",
       "    </tr>\n",
       "    <tr>\n",
       "      <th>3</th>\n",
       "      <td>1.57123e+06</td>\n",
       "      <td>[[--, --, --, --, --, --, --, --, --, --, --, ...</td>\n",
       "    </tr>\n",
       "    <tr>\n",
       "      <th>4</th>\n",
       "      <td>1.57195e+06</td>\n",
       "      <td>[[--, --, --, --, --, --, --, --, --, --, --, ...</td>\n",
       "    </tr>\n",
       "  </tbody>\n",
       "</table>\n",
       "</div>"
      ],
      "text/plain": [
       "             0                                                  1\n",
       "0  1.56907e+06  [[--, --, --, --, --, --, --, --, --, --, --, ...\n",
       "1  1.56982e+06  [[--, --, --, --, --, --, --, --, --, --, --, ...\n",
       "2  1.57049e+06  [[--, --, --, --, --, --, --, --, --, --, --, ...\n",
       "3  1.57123e+06  [[--, --, --, --, --, --, --, --, --, --, --, ...\n",
       "4  1.57195e+06  [[--, --, --, --, --, --, --, --, --, --, --, ..."
      ]
     },
     "execution_count": 25,
     "metadata": {},
     "output_type": "execute_result"
    }
   ],
   "source": [
    "df.head()"
   ]
  }
 ],
 "metadata": {
  "kernelspec": {
   "display_name": "Python 3",
   "language": "python",
   "name": "python3"
  },
  "language_info": {
   "codemirror_mode": {
    "name": "ipython",
    "version": 3
   },
   "file_extension": ".py",
   "mimetype": "text/x-python",
   "name": "python",
   "nbconvert_exporter": "python",
   "pygments_lexer": "ipython3",
   "version": "3.6.5"
  }
 },
 "nbformat": 4,
 "nbformat_minor": 2
}
